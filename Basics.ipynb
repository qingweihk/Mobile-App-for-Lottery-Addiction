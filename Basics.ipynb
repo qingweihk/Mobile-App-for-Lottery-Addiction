{
 "cells": [
  {
   "cell_type": "markdown",
   "metadata": {},
   "source": [
    "# Mobile App for Lottery Addiction"
   ]
  },
  {
   "cell_type": "markdown",
   "metadata": {},
   "source": [
    "A medical institute that aims to prevent and treat gambling addictions wants to build a dedicated mobile app to help lottery addicts better estimate their chances of winning. The institute has a team of engineers that will build the app, but they need us to create the logical core of the app and calculate probabilities."
   ]
  },
  {
   "cell_type": "markdown",
   "metadata": {},
   "source": [
    "For the first version of the app, they want us to focus on the 6/49 lottery and build functions that enable users to answer questions like:\n",
    "\n",
    "* What is the probability of winning the big prize with a single ticket?\n",
    "* What is the probability of winning the big prize if we play 40 different tickets (or any other number)?\n",
    "* What is the probability of having at least five (or four, or three, or two) winning numbers on a single ticket?"
   ]
  },
  {
   "cell_type": "markdown",
   "metadata": {},
   "source": [
    "And we will consider historical data coming from the national 6/49 lottery game in Canada. [The data set](https://www.kaggle.com/datascienceai/lottery-dataset) has data for 3,665 drawings, dating from 1982 to 2018 ."
   ]
  },
  {
   "cell_type": "markdown",
   "metadata": {},
   "source": [
    "# Core Functions"
   ]
  },
  {
   "cell_type": "markdown",
   "metadata": {},
   "source": [
    "Throughout the project, we'll need to calculate repeatedly probabilities and combinations. As a consequence, we'll start by writing two functions that we'll use often:\n",
    "\n",
    "* A function that calculates factorials; and\n",
    "* A function that calculates combinations."
   ]
  },
  {
   "cell_type": "code",
   "execution_count": 1,
   "metadata": {
    "collapsed": true
   },
   "outputs": [],
   "source": [
    "#A function that calculates factorials\n",
    "def factorial(n):\n",
    "    s=1\n",
    "    for i in range(n,0,-1):\n",
    "        s=s*i\n",
    "    return s"
   ]
  },
  {
   "cell_type": "code",
   "execution_count": 2,
   "metadata": {
    "collapsed": true
   },
   "outputs": [],
   "source": [
    "# A function that calculates combinations\n",
    "def combinations(n,k):\n",
    "    return factorial(n)/(factorial(k)*factorial(n-k))\n"
   ]
  },
  {
   "cell_type": "markdown",
   "metadata": {},
   "source": [
    "# One-ticket Probability"
   ]
  },
  {
   "cell_type": "markdown",
   "metadata": {},
   "source": [
    "In the 6/49 lottery, six numbers are drawn from a set of 49 numbers that range from 1 to 49. A player wins the big prize if the six numbers on their tickets match all the six numbers drawn."
   ]
  },
  {
   "cell_type": "markdown",
   "metadata": {},
   "source": [
    "The engineer team told us that we need to be aware of the following details when we write the function:\n",
    "\n",
    "* Inside the app, the user inputs six different numbers from 1 to 49.\n",
    "* Under the hood, the six numbers will come as a Python list and serve as an input to our function.\n",
    "* The engineering team wants the function to print the probability value in a friendly way — in a way that people without any probability training are able to understand.\n",
    "\n",
    "Below, we write the one_ticket_probability() function, which takes in a list of six unique numbers and prints the probability of winning in a way that's easy to understand."
   ]
  },
  {
   "cell_type": "code",
   "execution_count": 3,
   "metadata": {
    "collapsed": false
   },
   "outputs": [
    {
     "name": "stdout",
     "output_type": "stream",
     "text": [
      "Your chance that your number1 2 3 4 5 6to win the prize is 0.0000072%,in other words you have a 1 in 13,983,816.0 chance to win.\n"
     ]
    }
   ],
   "source": [
    "def one_ticket_probability(user_numbers):\n",
    "    n_combinations = combinations(49, 6)\n",
    "    probability_one_ticket = 1/n_combinations\n",
    "    percentage_form = probability_one_ticket * 100\n",
    "    \n",
    "    print('Your chance that your number{}to win the prize is {:.7f}%,in other words you have a 1 in {:,} chance to win.'.format(user_numbers,percentage_form,n_combinations))\n",
    "    \n",
    "one_ticket_probability(\"1 2 3 4 5 6\")"
   ]
  },
  {
   "cell_type": "markdown",
   "metadata": {},
   "source": [
    "# Historical Data Check for Canada Lottery"
   ]
  },
  {
   "cell_type": "markdown",
   "metadata": {},
   "source": [
    "On the previous screen, we wrote a function that can tell users what is the probability of winning the big prize with a single ticket. For the first version of the app, however, users should also be able to compare their ticket against the historical lottery data in Canada and determine whether they would have ever won by now."
   ]
  },
  {
   "cell_type": "code",
   "execution_count": 4,
   "metadata": {
    "collapsed": false
   },
   "outputs": [
    {
     "data": {
      "text/plain": [
       "(3665, 11)"
      ]
     },
     "execution_count": 4,
     "metadata": {},
     "output_type": "execute_result"
    }
   ],
   "source": [
    "import pandas as pd\n",
    "\n",
    "lottery_canada = pd.read_csv('649.csv')\n",
    "lottery_canada.shape"
   ]
  },
  {
   "cell_type": "code",
   "execution_count": 5,
   "metadata": {
    "collapsed": false
   },
   "outputs": [
    {
     "data": {
      "text/html": [
       "<div>\n",
       "<style scoped>\n",
       "    .dataframe tbody tr th:only-of-type {\n",
       "        vertical-align: middle;\n",
       "    }\n",
       "\n",
       "    .dataframe tbody tr th {\n",
       "        vertical-align: top;\n",
       "    }\n",
       "\n",
       "    .dataframe thead th {\n",
       "        text-align: right;\n",
       "    }\n",
       "</style>\n",
       "<table border=\"1\" class=\"dataframe\">\n",
       "  <thead>\n",
       "    <tr style=\"text-align: right;\">\n",
       "      <th></th>\n",
       "      <th>PRODUCT</th>\n",
       "      <th>DRAW NUMBER</th>\n",
       "      <th>SEQUENCE NUMBER</th>\n",
       "      <th>DRAW DATE</th>\n",
       "      <th>NUMBER DRAWN 1</th>\n",
       "      <th>NUMBER DRAWN 2</th>\n",
       "      <th>NUMBER DRAWN 3</th>\n",
       "      <th>NUMBER DRAWN 4</th>\n",
       "      <th>NUMBER DRAWN 5</th>\n",
       "      <th>NUMBER DRAWN 6</th>\n",
       "      <th>BONUS NUMBER</th>\n",
       "    </tr>\n",
       "  </thead>\n",
       "  <tbody>\n",
       "    <tr>\n",
       "      <th>0</th>\n",
       "      <td>649</td>\n",
       "      <td>1</td>\n",
       "      <td>0</td>\n",
       "      <td>6/12/1982</td>\n",
       "      <td>3</td>\n",
       "      <td>11</td>\n",
       "      <td>12</td>\n",
       "      <td>14</td>\n",
       "      <td>41</td>\n",
       "      <td>43</td>\n",
       "      <td>13</td>\n",
       "    </tr>\n",
       "    <tr>\n",
       "      <th>1</th>\n",
       "      <td>649</td>\n",
       "      <td>2</td>\n",
       "      <td>0</td>\n",
       "      <td>6/19/1982</td>\n",
       "      <td>8</td>\n",
       "      <td>33</td>\n",
       "      <td>36</td>\n",
       "      <td>37</td>\n",
       "      <td>39</td>\n",
       "      <td>41</td>\n",
       "      <td>9</td>\n",
       "    </tr>\n",
       "    <tr>\n",
       "      <th>2</th>\n",
       "      <td>649</td>\n",
       "      <td>3</td>\n",
       "      <td>0</td>\n",
       "      <td>6/26/1982</td>\n",
       "      <td>1</td>\n",
       "      <td>6</td>\n",
       "      <td>23</td>\n",
       "      <td>24</td>\n",
       "      <td>27</td>\n",
       "      <td>39</td>\n",
       "      <td>34</td>\n",
       "    </tr>\n",
       "  </tbody>\n",
       "</table>\n",
       "</div>"
      ],
      "text/plain": [
       "   PRODUCT  DRAW NUMBER  SEQUENCE NUMBER  DRAW DATE  NUMBER DRAWN 1  \\\n",
       "0      649            1                0  6/12/1982               3   \n",
       "1      649            2                0  6/19/1982               8   \n",
       "2      649            3                0  6/26/1982               1   \n",
       "\n",
       "   NUMBER DRAWN 2  NUMBER DRAWN 3  NUMBER DRAWN 4  NUMBER DRAWN 5  \\\n",
       "0              11              12              14              41   \n",
       "1              33              36              37              39   \n",
       "2               6              23              24              27   \n",
       "\n",
       "   NUMBER DRAWN 6  BONUS NUMBER  \n",
       "0              43            13  \n",
       "1              41             9  \n",
       "2              39            34  "
      ]
     },
     "execution_count": 5,
     "metadata": {},
     "output_type": "execute_result"
    }
   ],
   "source": [
    "lottery_canada.head(3)"
   ]
  },
  {
   "cell_type": "markdown",
   "metadata": {},
   "source": [
    "# Function for Historical Data Check"
   ]
  },
  {
   "cell_type": "markdown",
   "metadata": {},
   "source": [
    "We're going to write a function that will enable users to compare their ticket against the historical lottery data in Canada and determine whether they would have ever won by now."
   ]
  },
  {
   "cell_type": "markdown",
   "metadata": {},
   "source": [
    "The engineering team told us that we need to be aware of the following details:\n",
    "\n",
    "* Inside the app, the user inputs six different numbers from 1 to 49.\n",
    "* Under the hood, the six numbers will come as a Python list and serve as an input to our function.\n",
    "* The engineering team wants us to write a function that prints:\n",
    "  * the number of times the combination selected occurred in the Canada data set; and\n",
    "  * the probability of winning the big prize in the next drawing with that combination."
   ]
  },
  {
   "cell_type": "code",
   "execution_count": 6,
   "metadata": {
    "collapsed": false
   },
   "outputs": [
    {
     "data": {
      "text/plain": [
       "0    {3, 41, 11, 12, 43, 14}\n",
       "1    {33, 36, 37, 39, 8, 41}\n",
       "2     {1, 6, 39, 23, 24, 27}\n",
       "3     {3, 9, 10, 43, 13, 20}\n",
       "4    {34, 5, 14, 47, 21, 31}\n",
       "dtype: object"
      ]
     },
     "execution_count": 6,
     "metadata": {},
     "output_type": "execute_result"
    }
   ],
   "source": [
    "def extract_numbers(row):\n",
    "    row=row[4:10]\n",
    "    row=set(row.values)\n",
    "    return row\n",
    "\n",
    "winning_numbers = lottery_canada.apply(extract_numbers,axis=1)\n",
    "winning_numbers.head()"
   ]
  },
  {
   "cell_type": "markdown",
   "metadata": {},
   "source": [
    "Below, we write the check_historical_occurrence() function that takes in the user numbers and the historical numbers and prints information with respect to the number of occurrences and the probability of winning in the next drawing."
   ]
  },
  {
   "cell_type": "code",
   "execution_count": 7,
   "metadata": {
    "collapsed": false
   },
   "outputs": [],
   "source": [
    "def check_historical_occurrence(user_numbers, historical_numbers):\n",
    "    user_numbers_set=set(user_numbers)\n",
    "    check_occurrence = historical_numbers == user_numbers_set\n",
    "    n_occurrences = check_occurrence.sum()\n",
    "    \n",
    "    if n_occurrences == 0:\n",
    "        print('''The combination {} has never occured.\n",
    "This doesn't mean it's more likely to occur now. Your chances to win the big prize in the next drawing using the combination {} are 0.0000072%.\n",
    "In other words, you have a 1 in 13,983,816 chances to win.'''.format(user_numbers, user_numbers))\n",
    "        \n",
    "    else:\n",
    "        print('''The number of times combination {} has occured in the past is {}.\n",
    "Your chances to win the big prize in the next drawing using the combination {} are 0.0000072%.\n",
    "In other words, you have a 1 in 13,983,816 chances to win.'''.format(user_numbers, n_occurrences,\n",
    "                                                                            user_numbers))"
   ]
  },
  {
   "cell_type": "code",
   "execution_count": 8,
   "metadata": {
    "collapsed": false
   },
   "outputs": [
    {
     "name": "stdout",
     "output_type": "stream",
     "text": [
      "The number of times combination [33, 36, 37, 39, 8, 41] has occured in the past is 1.\n",
      "Your chances to win the big prize in the next drawing using the combination [33, 36, 37, 39, 8, 41] are 0.0000072%.\n",
      "In other words, you have a 1 in 13,983,816 chances to win.\n"
     ]
    }
   ],
   "source": [
    "test_input_3 = [33, 36, 37, 39, 8, 41]\n",
    "check_historical_occurrence(test_input_3, winning_numbers)"
   ]
  },
  {
   "cell_type": "code",
   "execution_count": 9,
   "metadata": {
    "collapsed": false
   },
   "outputs": [
    {
     "name": "stdout",
     "output_type": "stream",
     "text": [
      "The combination [3, 2, 44, 22, 1, 44] has never occured.\n",
      "This doesn't mean it's more likely to occur now. Your chances to win the big prize in the next drawing using the combination [3, 2, 44, 22, 1, 44] are 0.0000072%.\n",
      "In other words, you have a 1 in 13,983,816 chances to win.\n"
     ]
    }
   ],
   "source": [
    "test_input_4 = [3, 2, 44, 22, 1, 44]\n",
    "check_historical_occurrence(test_input_4, winning_numbers)"
   ]
  },
  {
   "cell_type": "markdown",
   "metadata": {},
   "source": [
    "# Multi-ticket Probability"
   ]
  },
  {
   "cell_type": "markdown",
   "metadata": {},
   "source": [
    "Lottery addicts usually play more than one ticket on a single drawing, thinking that this might increase their chances of winning significantly. Our purpose is to help them better estimate their chances of winning — on this screen, we're going to write a function that will allow the users to calculate the chances of winning for any number of different tickets."
   ]
  },
  {
   "cell_type": "markdown",
   "metadata": {},
   "source": [
    "We've talked with the engineering team and they gave us the following information:\n",
    "\n",
    "* The user will input the number of different tickets they want to play (without inputting the specific combinations they intend to play).\n",
    "* Our function will see an integer between 1 and 13,983,816 (the maximum number of different tickets).\n",
    "* The function should print information about the probability of winning the big prize depending on the number of different tickets played."
   ]
  },
  {
   "cell_type": "code",
   "execution_count": 10,
   "metadata": {
    "collapsed": true
   },
   "outputs": [],
   "source": [
    "#Write a function named multi_ticket_probability() that prints the probability of winning the big prize depending on the number of different tickets played.\n",
    "def multi_ticket_probability(n_tickets):\n",
    "    n_combinations = combinations(49, 6)\n",
    "    \n",
    "    probability = n_tickets / n_combinations\n",
    "    percentage_form = probability * 100\n",
    "    \n",
    "    if n_tickets == 1:\n",
    "        print('''Your chances to win the big prize with one ticket are {:.6f}%.\n",
    "In other words, you have a 1 in {:,} chances to win.'''.format(percentage_form, int(n_combinations)))\n",
    "    \n",
    "    else:\n",
    "        combinations_simplified = round(n_combinations / n_tickets)   \n",
    "        print('''Your chances to win the big prize with {:,} different tickets are {:.6f}%.\n",
    "In other words, you have a 1 in {:,} chances to win.'''.format(n_tickets, percentage_form,\n",
    "                                                               combinations_simplified))\n",
    "                                  "
   ]
  },
  {
   "cell_type": "markdown",
   "metadata": {},
   "source": [
    "Below, we run a couple of tests for our function."
   ]
  },
  {
   "cell_type": "code",
   "execution_count": 11,
   "metadata": {
    "collapsed": false
   },
   "outputs": [
    {
     "name": "stdout",
     "output_type": "stream",
     "text": [
      "Your chances to win the big prize with one ticket are 0.000007%.\n",
      "In other words, you have a 1 in 13,983,816 chances to win.\n",
      "------------------------\n",
      "Your chances to win the big prize with 10 different tickets are 0.000072%.\n",
      "In other words, you have a 1 in 1,398,382 chances to win.\n",
      "------------------------\n",
      "Your chances to win the big prize with 100 different tickets are 0.000715%.\n",
      "In other words, you have a 1 in 139,838 chances to win.\n",
      "------------------------\n",
      "Your chances to win the big prize with 10,000 different tickets are 0.071511%.\n",
      "In other words, you have a 1 in 1,398 chances to win.\n",
      "------------------------\n",
      "Your chances to win the big prize with 1,000,000 different tickets are 7.151124%.\n",
      "In other words, you have a 1 in 14 chances to win.\n",
      "------------------------\n",
      "Your chances to win the big prize with 6,991,908 different tickets are 50.000000%.\n",
      "In other words, you have a 1 in 2 chances to win.\n",
      "------------------------\n",
      "Your chances to win the big prize with 13,983,816 different tickets are 100.000000%.\n",
      "In other words, you have a 1 in 1 chances to win.\n",
      "------------------------\n"
     ]
    }
   ],
   "source": [
    "test_inputs = [1, 10, 100, 10000, 1000000, 6991908, 13983816]\n",
    "\n",
    "for test_input in test_inputs:\n",
    "    multi_ticket_probability(test_input)\n",
    "    print('------------------------') # output delimiter"
   ]
  },
  {
   "cell_type": "markdown",
   "metadata": {},
   "source": [
    "# Less Winning Numbers — Function"
   ]
  },
  {
   "cell_type": "markdown",
   "metadata": {},
   "source": [
    "In most 6/49 lotteries, there are smaller prizes if a player's ticket match two, three, four, or five of the six numbers drawn. This means that players might be interested in finding out the probability of having two, three, four, or five winning numbers — for the first version of the app, users should be able to find those probabilities.\n",
    "\n",
    "These are the details we need to be aware of when we write a function to make the calculations of those probabilities possible:\n",
    "\n",
    "* Inside the app, the user inputs:\n",
    "  * six different numbers from 1 to 49; and\n",
    "  * an integer between 2 and 5 that represents the number of winning numbers expected\n",
    "* Our function prints information about the probability of having a certain number of winning numbers\n",
    "\n",
    "To calculate the probabilities, we tell the engineering team that the specific combination on the ticket is irrelevant and we only need the integer between 2 and 5 representing the number of winning numbers expected. Consequently, we will write a function named probability_less_6() which takes in an integer and prints information about the chances of winning depending on the value of that integer."
   ]
  },
  {
   "cell_type": "code",
   "execution_count": 12,
   "metadata": {
    "collapsed": true
   },
   "outputs": [],
   "source": [
    "# Write a function which takes in an integer between 2 and 5 and prints information about the chances of winning depending on the value of that integer\n",
    "def probability_less_6(n_winning_numbers):\n",
    "    n_combinations_ticket = combinations(6, n_winning_numbers)\n",
    "    n_combinations_remaining = combinations(49 - n_winning_numbers,\n",
    "                                           6 - n_winning_numbers)\n",
    "    successful_outcomes = n_combinations_ticket * n_combinations_remaining\n",
    "    n_combinations_total = combinations(49, 6)\n",
    "    \n",
    "    probability = successful_outcomes / n_combinations_total\n",
    "    probability_percentage = probability * 100\n",
    "    \n",
    "    combinations_simplified = round(n_combinations_total/successful_outcomes)\n",
    "    \n",
    "    print('''Your chances of having {} winning numbers with this ticket are {:.6f}%.\n",
    "In other words, you have a 1 in {:,} chances to win.'''.format(n_winning_numbers, probability_percentage,\n",
    "                                                               int(combinations_simplified)))"
   ]
  },
  {
   "cell_type": "markdown",
   "metadata": {},
   "source": [
    "Now, let's test the function on all the three possible inputs."
   ]
  },
  {
   "cell_type": "code",
   "execution_count": 13,
   "metadata": {
    "collapsed": false
   },
   "outputs": [
    {
     "name": "stdout",
     "output_type": "stream",
     "text": [
      "Your chances of having 2 winning numbers with this ticket are 19.132653%.\n",
      "In other words, you have a 1 in 5 chances to win.\n",
      "--------------------------\n",
      "Your chances of having 3 winning numbers with this ticket are 2.171081%.\n",
      "In other words, you have a 1 in 46 chances to win.\n",
      "--------------------------\n",
      "Your chances of having 4 winning numbers with this ticket are 0.106194%.\n",
      "In other words, you have a 1 in 942 chances to win.\n",
      "--------------------------\n",
      "Your chances of having 5 winning numbers with this ticket are 0.001888%.\n",
      "In other words, you have a 1 in 52,969 chances to win.\n",
      "--------------------------\n"
     ]
    }
   ],
   "source": [
    "for test_input in [2, 3, 4, 5]:\n",
    "    probability_less_6(test_input)\n",
    "    print('--------------------------') # output delimiter"
   ]
  }
 ],
 "metadata": {
  "kernelspec": {
   "display_name": "Python 3",
   "language": "python",
   "name": "python3"
  },
  "language_info": {
   "codemirror_mode": {
    "name": "ipython",
    "version": 3
   },
   "file_extension": ".py",
   "mimetype": "text/x-python",
   "name": "python",
   "nbconvert_exporter": "python",
   "pygments_lexer": "ipython3",
   "version": "3.4.3"
  }
 },
 "nbformat": 4,
 "nbformat_minor": 2
}
